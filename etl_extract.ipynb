{
 "cells": [
  {
   "cell_type": "markdown",
   "id": "cf2afca3",
   "metadata": {},
   "source": [
    "# ETL (EXTRACTION) PROCESS\n",
    "The first step in the ETL process is extraction, where we gather data from various sources. In this project, we will focus on extracting data from a CSV file using Python's Pandas library.\n",
    "\n",
    "**Loading raw_data from CSV file**\n",
    "\n",
    "\n"
   ]
  },
  {
   "cell_type": "code",
   "execution_count": 15,
   "id": "503ea94b",
   "metadata": {},
   "outputs": [
    {
     "name": "stdout",
     "output_type": "stream",
     "text": [
      "<class 'pandas.core.frame.DataFrame'>\n",
      "RangeIndex: 100 entries, 0 to 99\n",
      "Data columns (total 7 columns):\n",
      " #   Column         Non-Null Count  Dtype  \n",
      "---  ------         --------------  -----  \n",
      " 0   order_id       100 non-null    int64  \n",
      " 1   customer_name  99 non-null     object \n",
      " 2   product        100 non-null    object \n",
      " 3   quantity       74 non-null     float64\n",
      " 4   unit_price     65 non-null     float64\n",
      " 5   order_date     99 non-null     object \n",
      " 6   region         75 non-null     object \n",
      "dtypes: float64(2), int64(1), object(4)\n",
      "memory usage: 5.6+ KB\n"
     ]
    },
    {
     "data": {
      "application/vnd.microsoft.datawrangler.viewer.v0+json": {
       "columns": [
        {
         "name": "index",
         "rawType": "int64",
         "type": "integer"
        },
        {
         "name": "order_id",
         "rawType": "int64",
         "type": "integer"
        },
        {
         "name": "customer_name",
         "rawType": "object",
         "type": "string"
        },
        {
         "name": "product",
         "rawType": "object",
         "type": "string"
        },
        {
         "name": "quantity",
         "rawType": "float64",
         "type": "float"
        },
        {
         "name": "unit_price",
         "rawType": "float64",
         "type": "float"
        },
        {
         "name": "order_date",
         "rawType": "object",
         "type": "string"
        },
        {
         "name": "region",
         "rawType": "object",
         "type": "unknown"
        }
       ],
       "ref": "cb8b6a86-9ad6-4868-8cf7-85575e035221",
       "rows": [
        [
         "0",
         "1",
         "Diana",
         "Tablet",
         null,
         "500.0",
         "2024-01-20",
         "South"
        ],
        [
         "1",
         "2",
         "Eve",
         "Laptop",
         null,
         null,
         "2024-04-29",
         "North"
        ],
        [
         "2",
         "3",
         "Charlie",
         "Laptop",
         "2.0",
         "250.0",
         "2024-01-08",
         null
        ],
        [
         "3",
         "4",
         "Eve",
         "Laptop",
         "2.0",
         "750.0",
         "2024-01-07",
         "West"
        ],
        [
         "4",
         "5",
         "Eve",
         "Tablet",
         "3.0",
         null,
         "2024-03-07",
         "South"
        ]
       ],
       "shape": {
        "columns": 7,
        "rows": 5
       }
      },
      "text/html": [
       "<div>\n",
       "<style scoped>\n",
       "    .dataframe tbody tr th:only-of-type {\n",
       "        vertical-align: middle;\n",
       "    }\n",
       "\n",
       "    .dataframe tbody tr th {\n",
       "        vertical-align: top;\n",
       "    }\n",
       "\n",
       "    .dataframe thead th {\n",
       "        text-align: right;\n",
       "    }\n",
       "</style>\n",
       "<table border=\"1\" class=\"dataframe\">\n",
       "  <thead>\n",
       "    <tr style=\"text-align: right;\">\n",
       "      <th></th>\n",
       "      <th>order_id</th>\n",
       "      <th>customer_name</th>\n",
       "      <th>product</th>\n",
       "      <th>quantity</th>\n",
       "      <th>unit_price</th>\n",
       "      <th>order_date</th>\n",
       "      <th>region</th>\n",
       "    </tr>\n",
       "  </thead>\n",
       "  <tbody>\n",
       "    <tr>\n",
       "      <th>0</th>\n",
       "      <td>1</td>\n",
       "      <td>Diana</td>\n",
       "      <td>Tablet</td>\n",
       "      <td>NaN</td>\n",
       "      <td>500.0</td>\n",
       "      <td>2024-01-20</td>\n",
       "      <td>South</td>\n",
       "    </tr>\n",
       "    <tr>\n",
       "      <th>1</th>\n",
       "      <td>2</td>\n",
       "      <td>Eve</td>\n",
       "      <td>Laptop</td>\n",
       "      <td>NaN</td>\n",
       "      <td>NaN</td>\n",
       "      <td>2024-04-29</td>\n",
       "      <td>North</td>\n",
       "    </tr>\n",
       "    <tr>\n",
       "      <th>2</th>\n",
       "      <td>3</td>\n",
       "      <td>Charlie</td>\n",
       "      <td>Laptop</td>\n",
       "      <td>2.0</td>\n",
       "      <td>250.0</td>\n",
       "      <td>2024-01-08</td>\n",
       "      <td>NaN</td>\n",
       "    </tr>\n",
       "    <tr>\n",
       "      <th>3</th>\n",
       "      <td>4</td>\n",
       "      <td>Eve</td>\n",
       "      <td>Laptop</td>\n",
       "      <td>2.0</td>\n",
       "      <td>750.0</td>\n",
       "      <td>2024-01-07</td>\n",
       "      <td>West</td>\n",
       "    </tr>\n",
       "    <tr>\n",
       "      <th>4</th>\n",
       "      <td>5</td>\n",
       "      <td>Eve</td>\n",
       "      <td>Tablet</td>\n",
       "      <td>3.0</td>\n",
       "      <td>NaN</td>\n",
       "      <td>2024-03-07</td>\n",
       "      <td>South</td>\n",
       "    </tr>\n",
       "  </tbody>\n",
       "</table>\n",
       "</div>"
      ],
      "text/plain": [
       "   order_id customer_name product  quantity  unit_price  order_date region\n",
       "0         1         Diana  Tablet       NaN       500.0  2024-01-20  South\n",
       "1         2           Eve  Laptop       NaN         NaN  2024-04-29  North\n",
       "2         3       Charlie  Laptop       2.0       250.0  2024-01-08    NaN\n",
       "3         4           Eve  Laptop       2.0       750.0  2024-01-07   West\n",
       "4         5           Eve  Tablet       3.0         NaN  2024-03-07  South"
      ]
     },
     "execution_count": 15,
     "metadata": {},
     "output_type": "execute_result"
    }
   ],
   "source": [
    "# Import necessary libraries\n",
    "import pandas as pd\n",
    "import matplotlib.pyplot as plt\n",
    "\n",
    "# loading the dataset\n",
    "raw_data = pd.read_csv(r'C:\\Users\\admin\\Downloads\\raw_data.csv')\n",
    "\n",
    "# Check the structure of the dataset\n",
    "raw_data.info()\n",
    "\n",
    "# Display the first few rows of the dataset\n",
    "raw_data.head()"
   ]
  },
  {
   "cell_type": "markdown",
   "id": "f038801e",
   "metadata": {},
   "source": [
    "The `row_data` dataset has the following structure:\n",
    "1) Seven columns representing different attributes of each order. They include:\n",
    "   - `order_id`: Unique identifier for each order \n",
    "   - `customer_name`: Name of the customer who placed the order\n",
    "   - `product`: Name of the product ordered\n",
    "   - `quantity`: Number of units ordered\n",
    "   - `unit_price`: Price per unit of the product\n",
    "   - `order_date`: Date when the order was placed\n",
    "   - `region`: Geographic region where the order was placed\n",
    "\n",
    "2) 100 rows representing individual orders placed by customers.\n",
    "\n",
    "3) The `order_date` column is in the format 'YYYY-MM-DD' (it is however recorded as an object), and the `region` column contains categorical data representing different geographic areas.\n"
   ]
  },
  {
   "cell_type": "code",
   "execution_count": 16,
   "id": "06e44c21",
   "metadata": {},
   "outputs": [
    {
     "name": "stdout",
     "output_type": "stream",
     "text": [
      "Missing values in each column:\n",
      " order_id          0\n",
      "customer_name     1\n",
      "product           0\n",
      "quantity         26\n",
      "unit_price       35\n",
      "order_date        1\n",
      "region           25\n",
      "dtype: int64\n",
      "Number of duplicate rows: 1\n",
      "Suspecious columns with values '?', 'N/A', or 'None': []\n"
     ]
    }
   ],
   "source": [
    "# check for missing values\n",
    "missing_values = raw_data.isnull().sum()\n",
    "print(\"Missing values in each column:\\n\", missing_values)\n",
    "\n",
    "# Check for duplicate rows\n",
    "duplicate_rows = raw_data.duplicated().sum()\n",
    "print(\"Number of duplicate rows:\", duplicate_rows)\n",
    "\n",
    "# Check if there are any columns with values that are '?', 'N/A', or 'None'\n",
    "suspecious_columns = raw_data.columns[raw_data.isin(['?', 'N/A', 'None']).any()]\n",
    "print(\"Suspecious columns with values '?', 'N/A', or 'None':\", suspecious_columns.tolist())\n",
    "\n",
    "# saving the cleaned dataset to raw_data new CSV file\n",
    "raw_data.to_csv(\"Data/raw_data.csv\", index=False)"
   ]
  },
  {
   "cell_type": "markdown",
   "id": "22218bdf",
   "metadata": {},
   "source": [
    "**Loading incremental_data from CSV file**\n"
   ]
  },
  {
   "cell_type": "code",
   "execution_count": 17,
   "id": "c27a565b",
   "metadata": {},
   "outputs": [
    {
     "name": "stdout",
     "output_type": "stream",
     "text": [
      "<class 'pandas.core.frame.DataFrame'>\n",
      "RangeIndex: 10 entries, 0 to 9\n",
      "Data columns (total 7 columns):\n",
      " #   Column         Non-Null Count  Dtype  \n",
      "---  ------         --------------  -----  \n",
      " 0   order_id       10 non-null     int64  \n",
      " 1   customer_name  4 non-null      object \n",
      " 2   product        10 non-null     object \n",
      " 3   quantity       6 non-null      float64\n",
      " 4   unit_price     10 non-null     float64\n",
      " 5   order_date     10 non-null     object \n",
      " 6   region         8 non-null      object \n",
      "dtypes: float64(2), int64(1), object(4)\n",
      "memory usage: 692.0+ bytes\n"
     ]
    },
    {
     "data": {
      "application/vnd.microsoft.datawrangler.viewer.v0+json": {
       "columns": [
        {
         "name": "index",
         "rawType": "int64",
         "type": "integer"
        },
        {
         "name": "order_id",
         "rawType": "int64",
         "type": "integer"
        },
        {
         "name": "customer_name",
         "rawType": "object",
         "type": "unknown"
        },
        {
         "name": "product",
         "rawType": "object",
         "type": "string"
        },
        {
         "name": "quantity",
         "rawType": "float64",
         "type": "float"
        },
        {
         "name": "unit_price",
         "rawType": "float64",
         "type": "float"
        },
        {
         "name": "order_date",
         "rawType": "object",
         "type": "string"
        },
        {
         "name": "region",
         "rawType": "object",
         "type": "string"
        }
       ],
       "ref": "c9a1312a-91b5-4a27-beda-b315bf3e1eb8",
       "rows": [
        [
         "0",
         "101",
         "Alice",
         "Laptop",
         null,
         "900.0",
         "2024-05-09",
         "Central"
        ],
        [
         "1",
         "102",
         null,
         "Laptop",
         "1.0",
         "300.0",
         "2024-05-07",
         "Central"
        ],
        [
         "2",
         "103",
         null,
         "Laptop",
         "1.0",
         "600.0",
         "2024-05-04",
         "Central"
        ],
        [
         "3",
         "104",
         null,
         "Tablet",
         null,
         "300.0",
         "2024-05-26",
         "Central"
        ],
        [
         "4",
         "105",
         "Heidi",
         "Tablet",
         "2.0",
         "600.0",
         "2024-05-21",
         "North"
        ]
       ],
       "shape": {
        "columns": 7,
        "rows": 5
       }
      },
      "text/html": [
       "<div>\n",
       "<style scoped>\n",
       "    .dataframe tbody tr th:only-of-type {\n",
       "        vertical-align: middle;\n",
       "    }\n",
       "\n",
       "    .dataframe tbody tr th {\n",
       "        vertical-align: top;\n",
       "    }\n",
       "\n",
       "    .dataframe thead th {\n",
       "        text-align: right;\n",
       "    }\n",
       "</style>\n",
       "<table border=\"1\" class=\"dataframe\">\n",
       "  <thead>\n",
       "    <tr style=\"text-align: right;\">\n",
       "      <th></th>\n",
       "      <th>order_id</th>\n",
       "      <th>customer_name</th>\n",
       "      <th>product</th>\n",
       "      <th>quantity</th>\n",
       "      <th>unit_price</th>\n",
       "      <th>order_date</th>\n",
       "      <th>region</th>\n",
       "    </tr>\n",
       "  </thead>\n",
       "  <tbody>\n",
       "    <tr>\n",
       "      <th>0</th>\n",
       "      <td>101</td>\n",
       "      <td>Alice</td>\n",
       "      <td>Laptop</td>\n",
       "      <td>NaN</td>\n",
       "      <td>900.0</td>\n",
       "      <td>2024-05-09</td>\n",
       "      <td>Central</td>\n",
       "    </tr>\n",
       "    <tr>\n",
       "      <th>1</th>\n",
       "      <td>102</td>\n",
       "      <td>NaN</td>\n",
       "      <td>Laptop</td>\n",
       "      <td>1.0</td>\n",
       "      <td>300.0</td>\n",
       "      <td>2024-05-07</td>\n",
       "      <td>Central</td>\n",
       "    </tr>\n",
       "    <tr>\n",
       "      <th>2</th>\n",
       "      <td>103</td>\n",
       "      <td>NaN</td>\n",
       "      <td>Laptop</td>\n",
       "      <td>1.0</td>\n",
       "      <td>600.0</td>\n",
       "      <td>2024-05-04</td>\n",
       "      <td>Central</td>\n",
       "    </tr>\n",
       "    <tr>\n",
       "      <th>3</th>\n",
       "      <td>104</td>\n",
       "      <td>NaN</td>\n",
       "      <td>Tablet</td>\n",
       "      <td>NaN</td>\n",
       "      <td>300.0</td>\n",
       "      <td>2024-05-26</td>\n",
       "      <td>Central</td>\n",
       "    </tr>\n",
       "    <tr>\n",
       "      <th>4</th>\n",
       "      <td>105</td>\n",
       "      <td>Heidi</td>\n",
       "      <td>Tablet</td>\n",
       "      <td>2.0</td>\n",
       "      <td>600.0</td>\n",
       "      <td>2024-05-21</td>\n",
       "      <td>North</td>\n",
       "    </tr>\n",
       "  </tbody>\n",
       "</table>\n",
       "</div>"
      ],
      "text/plain": [
       "   order_id customer_name product  quantity  unit_price  order_date   region\n",
       "0       101         Alice  Laptop       NaN       900.0  2024-05-09  Central\n",
       "1       102           NaN  Laptop       1.0       300.0  2024-05-07  Central\n",
       "2       103           NaN  Laptop       1.0       600.0  2024-05-04  Central\n",
       "3       104           NaN  Tablet       NaN       300.0  2024-05-26  Central\n",
       "4       105         Heidi  Tablet       2.0       600.0  2024-05-21    North"
      ]
     },
     "execution_count": 17,
     "metadata": {},
     "output_type": "execute_result"
    }
   ],
   "source": [
    "# loading the dataset\n",
    "incremental_data = pd.read_csv(r'C:\\Users\\admin\\Downloads\\incremental_data.csv')\n",
    "\n",
    "# Check the structure of the incremental dataset\n",
    "incremental_data.info()\n",
    "\n",
    "# Display the first few rows of the incremental dataset\n",
    "incremental_data.head()"
   ]
  },
  {
   "cell_type": "code",
   "execution_count": 18,
   "id": "784e4794",
   "metadata": {},
   "outputs": [
    {
     "name": "stdout",
     "output_type": "stream",
     "text": [
      "Missing values in each column of incremental data:\n",
      " order_id         0\n",
      "customer_name    6\n",
      "product          0\n",
      "quantity         4\n",
      "unit_price       0\n",
      "order_date       0\n",
      "region           2\n",
      "dtype: int64\n",
      "Number of duplicate rows in incremental data: 0\n",
      "Suspecious columns in incremental data with values '?', 'N/A', or 'None': []\n"
     ]
    }
   ],
   "source": [
    "# Check for missing values in the incremental dataset\n",
    "missing_values_incremental = incremental_data.isnull().sum()\n",
    "print(\"Missing values in each column of incremental data:\\n\", missing_values_incremental)\n",
    "\n",
    "# Check for duplicate rows in the incremental dataset\n",
    "duplicate_rows_incremental = incremental_data.duplicated().sum()\n",
    "print(\"Number of duplicate rows in incremental data:\", duplicate_rows_incremental)\n",
    "\n",
    "# Check if there are any columns with values that are '?', 'N/A', or 'None' in the incremental dataset\n",
    "suspecious_columns_incremental = incremental_data.columns[incremental_data.isin(['?', 'N/A', 'None']).any()]\n",
    "print(\"Suspecious columns in incremental data with values '?', 'N/A', or 'None':\", suspecious_columns_incremental.tolist())\n",
    "\n",
    "# saving the cleaned incremental dataset to incremental_data new CSV file\n",
    "incremental_data.to_csv(\"Data/incremental_data.csv\", index=False)"
   ]
  },
  {
   "cell_type": "markdown",
   "id": "42597e13",
   "metadata": {},
   "source": [
    "**Visualization**\n",
    "Visualizing the difference between the number of records in the `raw_data` and `incremental_data` datasets can help us understand the volume of new data being added. This can be done using a simple bar chart."
   ]
  },
  {
   "cell_type": "code",
   "execution_count": 19,
   "id": "e257a6e5",
   "metadata": {},
   "outputs": [
    {
     "data": {
      "image/png": "[encoded data removed]",
      "text/plain": [
       "<Figure size 640x480 with 1 Axes>"
      ]
     },
     "metadata": {},
     "output_type": "display_data"
    }
   ],
   "source": [
    "# Count the number of records in each dataset\n",
    "raw_count = len(raw_data)\n",
    "incremental_count = len(incremental_data)\n",
    "# Create a bar chart to visualize the number of records\n",
    "plt.bar(['Raw Data', 'Incremental Data'], [raw_count, incremental_count], color=['blue', 'orange'])\n",
    "plt.title('Number of Records in Raw and Incremental Data')\n",
    "plt.xlabel('Dataset')\n",
    "plt.ylabel('Number of Records')\n",
    "plt.show()"
   ]
  }
 ],
 "metadata": {
  "kernelspec": {
   "display_name": "Python 3",
   "language": "python",
   "name": "python3"
  },
  "language_info": {
   "codemirror_mode": {
    "name": "ipython",
    "version": 3
   },
   "file_extension": ".py",
   "mimetype": "text/x-python",
   "name": "python",
   "nbconvert_exporter": "python",
   "pygments_lexer": "ipython3",
   "version": "3.13.2"
  }
 },
 "nbformat": 4,
 "nbformat_minor": 5
}

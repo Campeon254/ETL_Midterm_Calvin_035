{
 "cells": [
  {
   "cell_type": "markdown",
   "id": "5ed761fa",
   "metadata": {},
   "source": [
    "# ETL (LOADING) PROCESS\n",
    "In this section, we will load the data into the database. The data is already in the `staging` schema, so we will move it to the `public` schema.\n",
    "\n",
    "In this case, we will save as `Parquet` files, which are more efficient for performance, storage and querying.\n",
    "To save the data as `Parquet` files, we will use the `pandas` library. You also need to install the `pyarrow` library to save the data as `Parquet` files.\n",
    "\n",
    "```bash\n",
    "pip install pyarrow\n",
    "```"
   ]
  },
  {
   "cell_type": "code",
   "execution_count": 2,
   "id": "f06dcbeb",
   "metadata": {},
   "outputs": [
    {
     "data": {
      "application/vnd.microsoft.datawrangler.viewer.v0+json": {
       "columns": [
        {
         "name": "index",
         "rawType": "int64",
         "type": "integer"
        },
        {
         "name": "order_id",
         "rawType": "int64",
         "type": "integer"
        },
        {
         "name": "customer_name",
         "rawType": "object",
         "type": "string"
        },
        {
         "name": "product",
         "rawType": "object",
         "type": "string"
        },
        {
         "name": "quantity",
         "rawType": "float64",
         "type": "float"
        },
        {
         "name": "unit_price",
         "rawType": "float64",
         "type": "float"
        },
        {
         "name": "order_date",
         "rawType": "object",
         "type": "string"
        },
        {
         "name": "region",
         "rawType": "object",
         "type": "string"
        },
        {
         "name": "total_spend",
         "rawType": "float64",
         "type": "float"
        },
        {
         "name": "customer_tier",
         "rawType": "object",
         "type": "string"
        }
       ],
       "ref": "b70ee84d-0fa5-410c-a70a-59f63ad9be29",
       "rows": [
        [
         "0",
         "1",
         "Diana",
         "Tablet",
         "2.0",
         "500.0",
         "2024-01-20 00:00:00",
         "South",
         "1000.0",
         "Gold"
        ],
        [
         "1",
         "2",
         "Eve",
         "Laptop",
         "2.0",
         "500.0",
         "2024-04-29 00:00:00",
         "North",
         "1000.0",
         "Gold"
        ],
        [
         "2",
         "3",
         "Charlie",
         "Laptop",
         "2.0",
         "250.0",
         "2024-01-08 00:00:00",
         "Unknown",
         "500.0",
         "Silver"
        ],
        [
         "3",
         "4",
         "Eve",
         "Laptop",
         "2.0",
         "750.0",
         "2024-01-07 00:00:00",
         "West",
         "1500.0",
         "Platinum"
        ],
        [
         "4",
         "5",
         "Eve",
         "Tablet",
         "3.0",
         "500.0",
         "2024-03-07 00:00:00",
         "South",
         "1500.0",
         "Platinum"
        ]
       ],
       "shape": {
        "columns": 9,
        "rows": 5
       }
      },
      "text/html": [
       "<div>\n",
       "<style scoped>\n",
       "    .dataframe tbody tr th:only-of-type {\n",
       "        vertical-align: middle;\n",
       "    }\n",
       "\n",
       "    .dataframe tbody tr th {\n",
       "        vertical-align: top;\n",
       "    }\n",
       "\n",
       "    .dataframe thead th {\n",
       "        text-align: right;\n",
       "    }\n",
       "</style>\n",
       "<table border=\"1\" class=\"dataframe\">\n",
       "  <thead>\n",
       "    <tr style=\"text-align: right;\">\n",
       "      <th></th>\n",
       "      <th>order_id</th>\n",
       "      <th>customer_name</th>\n",
       "      <th>product</th>\n",
       "      <th>quantity</th>\n",
       "      <th>unit_price</th>\n",
       "      <th>order_date</th>\n",
       "      <th>region</th>\n",
       "      <th>total_spend</th>\n",
       "      <th>customer_tier</th>\n",
       "    </tr>\n",
       "  </thead>\n",
       "  <tbody>\n",
       "    <tr>\n",
       "      <th>0</th>\n",
       "      <td>1</td>\n",
       "      <td>Diana</td>\n",
       "      <td>Tablet</td>\n",
       "      <td>2.0</td>\n",
       "      <td>500.0</td>\n",
       "      <td>2024-01-20 00:00:00</td>\n",
       "      <td>South</td>\n",
       "      <td>1000.0</td>\n",
       "      <td>Gold</td>\n",
       "    </tr>\n",
       "    <tr>\n",
       "      <th>1</th>\n",
       "      <td>2</td>\n",
       "      <td>Eve</td>\n",
       "      <td>Laptop</td>\n",
       "      <td>2.0</td>\n",
       "      <td>500.0</td>\n",
       "      <td>2024-04-29 00:00:00</td>\n",
       "      <td>North</td>\n",
       "      <td>1000.0</td>\n",
       "      <td>Gold</td>\n",
       "    </tr>\n",
       "    <tr>\n",
       "      <th>2</th>\n",
       "      <td>3</td>\n",
       "      <td>Charlie</td>\n",
       "      <td>Laptop</td>\n",
       "      <td>2.0</td>\n",
       "      <td>250.0</td>\n",
       "      <td>2024-01-08 00:00:00</td>\n",
       "      <td>Unknown</td>\n",
       "      <td>500.0</td>\n",
       "      <td>Silver</td>\n",
       "    </tr>\n",
       "    <tr>\n",
       "      <th>3</th>\n",
       "      <td>4</td>\n",
       "      <td>Eve</td>\n",
       "      <td>Laptop</td>\n",
       "      <td>2.0</td>\n",
       "      <td>750.0</td>\n",
       "      <td>2024-01-07 00:00:00</td>\n",
       "      <td>West</td>\n",
       "      <td>1500.0</td>\n",
       "      <td>Platinum</td>\n",
       "    </tr>\n",
       "    <tr>\n",
       "      <th>4</th>\n",
       "      <td>5</td>\n",
       "      <td>Eve</td>\n",
       "      <td>Tablet</td>\n",
       "      <td>3.0</td>\n",
       "      <td>500.0</td>\n",
       "      <td>2024-03-07 00:00:00</td>\n",
       "      <td>South</td>\n",
       "      <td>1500.0</td>\n",
       "      <td>Platinum</td>\n",
       "    </tr>\n",
       "  </tbody>\n",
       "</table>\n",
       "</div>"
      ],
      "text/plain": [
       "   order_id customer_name product  quantity  unit_price           order_date  \\\n",
       "0         1         Diana  Tablet       2.0       500.0  2024-01-20 00:00:00   \n",
       "1         2           Eve  Laptop       2.0       500.0  2024-04-29 00:00:00   \n",
       "2         3       Charlie  Laptop       2.0       250.0  2024-01-08 00:00:00   \n",
       "3         4           Eve  Laptop       2.0       750.0  2024-01-07 00:00:00   \n",
       "4         5           Eve  Tablet       3.0       500.0  2024-03-07 00:00:00   \n",
       "\n",
       "    region  total_spend customer_tier  \n",
       "0    South       1000.0          Gold  \n",
       "1    North       1000.0          Gold  \n",
       "2  Unknown        500.0        Silver  \n",
       "3     West       1500.0      Platinum  \n",
       "4    South       1500.0      Platinum  "
      ]
     },
     "execution_count": 2,
     "metadata": {},
     "output_type": "execute_result"
    }
   ],
   "source": [
    "# Import necessary libraries\n",
    "import pandas as pd\n",
    "import os\n",
    "\n",
    "# Ensure output directory exists\n",
    "os.makedirs(\"loaded\", exist_ok=True)\n",
    "\n",
    "# Load CSVs\n",
    "full_data = pd.read_csv(\"Transformed/transformed_full.csv\")\n",
    "incremental_data = pd.read_csv(\"Transformed/transformed_incremental.csv\")\n",
    "\n",
    "# Save as Parquet\n",
    "full_data.to_parquet(\"loaded/full_data.parquet\", index=False)\n",
    "incremental_data.to_parquet(\"loaded/incremental_data.parquet\", index=False)\n",
    "\n",
    "# Preview parquet file for full data    \n",
    "preview_full = pd.read_parquet(\"loaded/full_data.parquet\")\n",
    "preview_full.head()"
   ]
  },
  {
   "cell_type": "code",
   "execution_count": 3,
   "id": "244eae32",
   "metadata": {},
   "outputs": [
    {
     "data": {
      "application/vnd.microsoft.datawrangler.viewer.v0+json": {
       "columns": [
        {
         "name": "index",
         "rawType": "int64",
         "type": "integer"
        },
        {
         "name": "order_id",
         "rawType": "int64",
         "type": "integer"
        },
        {
         "name": "quantity",
         "rawType": "float64",
         "type": "float"
        },
        {
         "name": "unit_price",
         "rawType": "float64",
         "type": "float"
        },
        {
         "name": "order_date",
         "rawType": "object",
         "type": "string"
        },
        {
         "name": "prod_Laptop",
         "rawType": "bool",
         "type": "boolean"
        },
        {
         "name": "prod_Tablet",
         "rawType": "bool",
         "type": "boolean"
        },
        {
         "name": "reg_Central",
         "rawType": "bool",
         "type": "boolean"
        },
        {
         "name": "reg_North",
         "rawType": "bool",
         "type": "boolean"
        },
        {
         "name": "total_spend",
         "rawType": "float64",
         "type": "float"
        }
       ],
       "ref": "30fe7cc3-d532-4630-af21-19d59604d075",
       "rows": [
        [
         "0",
         "101",
         "1.5",
         "900.0",
         "2024-05-09 00:00:00",
         "True",
         "False",
         "True",
         "False",
         "1350.0"
        ],
        [
         "1",
         "102",
         "1.0",
         "300.0",
         "2024-05-07 00:00:00",
         "True",
         "False",
         "True",
         "False",
         "300.0"
        ],
        [
         "2",
         "103",
         "1.0",
         "600.0",
         "2024-05-04 00:00:00",
         "True",
         "False",
         "True",
         "False",
         "600.0"
        ],
        [
         "3",
         "104",
         "1.5",
         "300.0",
         "2024-05-26 00:00:00",
         "False",
         "True",
         "True",
         "False",
         "450.0"
        ],
        [
         "4",
         "105",
         "2.0",
         "600.0",
         "2024-05-21 00:00:00",
         "False",
         "True",
         "False",
         "True",
         "1200.0"
        ]
       ],
       "shape": {
        "columns": 9,
        "rows": 5
       }
      },
      "text/html": [
       "<div>\n",
       "<style scoped>\n",
       "    .dataframe tbody tr th:only-of-type {\n",
       "        vertical-align: middle;\n",
       "    }\n",
       "\n",
       "    .dataframe tbody tr th {\n",
       "        vertical-align: top;\n",
       "    }\n",
       "\n",
       "    .dataframe thead th {\n",
       "        text-align: right;\n",
       "    }\n",
       "</style>\n",
       "<table border=\"1\" class=\"dataframe\">\n",
       "  <thead>\n",
       "    <tr style=\"text-align: right;\">\n",
       "      <th></th>\n",
       "      <th>order_id</th>\n",
       "      <th>quantity</th>\n",
       "      <th>unit_price</th>\n",
       "      <th>order_date</th>\n",
       "      <th>prod_Laptop</th>\n",
       "      <th>prod_Tablet</th>\n",
       "      <th>reg_Central</th>\n",
       "      <th>reg_North</th>\n",
       "      <th>total_spend</th>\n",
       "    </tr>\n",
       "  </thead>\n",
       "  <tbody>\n",
       "    <tr>\n",
       "      <th>0</th>\n",
       "      <td>101</td>\n",
       "      <td>1.5</td>\n",
       "      <td>900.0</td>\n",
       "      <td>2024-05-09 00:00:00</td>\n",
       "      <td>True</td>\n",
       "      <td>False</td>\n",
       "      <td>True</td>\n",
       "      <td>False</td>\n",
       "      <td>1350.0</td>\n",
       "    </tr>\n",
       "    <tr>\n",
       "      <th>1</th>\n",
       "      <td>102</td>\n",
       "      <td>1.0</td>\n",
       "      <td>300.0</td>\n",
       "      <td>2024-05-07 00:00:00</td>\n",
       "      <td>True</td>\n",
       "      <td>False</td>\n",
       "      <td>True</td>\n",
       "      <td>False</td>\n",
       "      <td>300.0</td>\n",
       "    </tr>\n",
       "    <tr>\n",
       "      <th>2</th>\n",
       "      <td>103</td>\n",
       "      <td>1.0</td>\n",
       "      <td>600.0</td>\n",
       "      <td>2024-05-04 00:00:00</td>\n",
       "      <td>True</td>\n",
       "      <td>False</td>\n",
       "      <td>True</td>\n",
       "      <td>False</td>\n",
       "      <td>600.0</td>\n",
       "    </tr>\n",
       "    <tr>\n",
       "      <th>3</th>\n",
       "      <td>104</td>\n",
       "      <td>1.5</td>\n",
       "      <td>300.0</td>\n",
       "      <td>2024-05-26 00:00:00</td>\n",
       "      <td>False</td>\n",
       "      <td>True</td>\n",
       "      <td>True</td>\n",
       "      <td>False</td>\n",
       "      <td>450.0</td>\n",
       "    </tr>\n",
       "    <tr>\n",
       "      <th>4</th>\n",
       "      <td>105</td>\n",
       "      <td>2.0</td>\n",
       "      <td>600.0</td>\n",
       "      <td>2024-05-21 00:00:00</td>\n",
       "      <td>False</td>\n",
       "      <td>True</td>\n",
       "      <td>False</td>\n",
       "      <td>True</td>\n",
       "      <td>1200.0</td>\n",
       "    </tr>\n",
       "  </tbody>\n",
       "</table>\n",
       "</div>"
      ],
      "text/plain": [
       "   order_id  quantity  unit_price           order_date  prod_Laptop  \\\n",
       "0       101       1.5       900.0  2024-05-09 00:00:00         True   \n",
       "1       102       1.0       300.0  2024-05-07 00:00:00         True   \n",
       "2       103       1.0       600.0  2024-05-04 00:00:00         True   \n",
       "3       104       1.5       300.0  2024-05-26 00:00:00        False   \n",
       "4       105       2.0       600.0  2024-05-21 00:00:00        False   \n",
       "\n",
       "   prod_Tablet  reg_Central  reg_North  total_spend  \n",
       "0        False         True      False       1350.0  \n",
       "1        False         True      False        300.0  \n",
       "2        False         True      False        600.0  \n",
       "3         True         True      False        450.0  \n",
       "4         True        False       True       1200.0  "
      ]
     },
     "execution_count": 3,
     "metadata": {},
     "output_type": "execute_result"
    }
   ],
   "source": [
    "# Preview parquet file for incremental data\n",
    "preview_incremental = pd.read_parquet(\"loaded/incremental_data.parquet\")\n",
    "preview_incremental.head()"
   ]
  }
 ],
 "metadata": {
  "kernelspec": {
   "display_name": "Python 3",
   "language": "python",
   "name": "python3"
  },
  "language_info": {
   "codemirror_mode": {
    "name": "ipython",
    "version": 3
   },
   "file_extension": ".py",
   "mimetype": "text/x-python",
   "name": "python",
   "nbconvert_exporter": "python",
   "pygments_lexer": "ipython3",
   "version": "3.13.2"
  }
 },
 "nbformat": 4,
 "nbformat_minor": 5
}

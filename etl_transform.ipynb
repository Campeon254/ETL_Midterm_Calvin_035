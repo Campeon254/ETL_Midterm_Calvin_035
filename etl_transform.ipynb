{
 "cells": [
  {
   "cell_type": "markdown",
   "id": "3846cdfc",
   "metadata": {},
   "source": [
    "# ETL (TRANSFORMATION) PROCESS\n",
    "In this stage, we will transform the data to fit our analysis needs. This includes cleaning, enrichment, Structuring, filtering and Categorization both the raw data and the incremental data.\n",
    "\n",
    "For this process, we will begin with the `raw data`, applying various transformations to prepare it for analysis. The transformation process will include the following steps:\n",
    "\n",
    "**1) Data Cleaning:**\n",
    "   - Remove duplicates.\n",
    "   - Handling missing values by either filling them with a default value or removing the rows/columns with missing data."
   ]
  },
  {
   "cell_type": "code",
   "execution_count": 1,
   "id": "733c31ca",
   "metadata": {},
   "outputs": [
    {
     "name": "stdout",
     "output_type": "stream",
     "text": [
      "Missing values in each column:\n",
      "order_id          0\n",
      "customer_name     1\n",
      "product           0\n",
      "quantity         26\n",
      "unit_price       35\n",
      "order_date        1\n",
      "region           25\n",
      "dtype: int64\n",
      "Number of duplicate rows: 1\n"
     ]
    }
   ],
   "source": [
    "# import necessary libraries\n",
    "import pandas as pd\n",
    "import numpy as np\n",
    "\n",
    "# load the dataset\n",
    "raw_data = pd.read_csv(\"Data/raw_data.csv\")\n",
    "\n",
    "# check for missing values\n",
    "missing_values = raw_data.isnull().sum()\n",
    "# print the missing values\n",
    "print(f\"Missing values in each column:\\n{missing_values}\")\n",
    "\n",
    "# check for duplicate rows\n",
    "duplicate_rows = raw_data.duplicated().sum()\n",
    "# print the number of duplicate rows\n",
    "print(f\"Number of duplicate rows: {duplicate_rows}\")"
   ]
  },
  {
   "cell_type": "markdown",
   "id": "b9ecbab6",
   "metadata": {},
   "source": [
    "To handle missing values, we will do the following:\n",
    "- We will fill the missing customer names with \"Unknown\".\n",
    "- We will fill the missing value for quantity and price with the median since there is possibility of outliers.\n",
    "- We will forward fill the missing values for the date column to ensure continuity in the time series data.\n",
    "- We will fill region with \"Unknown\" if it is missing to avoid bias in analysis.\n",
    "\n",
    "To remove duplicates, we will drop any rows that have the same values across all columns."
   ]
  },
  {
   "cell_type": "code",
   "execution_count": 2,
   "id": "3475458a",
   "metadata": {},
   "outputs": [
    {
     "data": {
      "application/vnd.microsoft.datawrangler.viewer.v0+json": {
       "columns": [
        {
         "name": "index",
         "rawType": "int64",
         "type": "integer"
        },
        {
         "name": "order_id",
         "rawType": "int64",
         "type": "integer"
        },
        {
         "name": "customer_name",
         "rawType": "object",
         "type": "string"
        },
        {
         "name": "product",
         "rawType": "object",
         "type": "string"
        },
        {
         "name": "quantity",
         "rawType": "float64",
         "type": "float"
        },
        {
         "name": "unit_price",
         "rawType": "float64",
         "type": "float"
        },
        {
         "name": "order_date",
         "rawType": "object",
         "type": "string"
        },
        {
         "name": "region",
         "rawType": "object",
         "type": "string"
        }
       ],
       "ref": "ca6ddefa-3d86-4403-a73f-0f61c8610ca3",
       "rows": [
        [
         "0",
         "1",
         "Diana",
         "Tablet",
         "2.0",
         "500.0",
         "2024-01-20",
         "South"
        ],
        [
         "1",
         "2",
         "Eve",
         "Laptop",
         "2.0",
         "500.0",
         "2024-04-29",
         "North"
        ],
        [
         "2",
         "3",
         "Charlie",
         "Laptop",
         "2.0",
         "250.0",
         "2024-01-08",
         "Unknown"
        ],
        [
         "3",
         "4",
         "Eve",
         "Laptop",
         "2.0",
         "750.0",
         "2024-01-07",
         "West"
        ],
        [
         "4",
         "5",
         "Eve",
         "Tablet",
         "3.0",
         "500.0",
         "2024-03-07",
         "South"
        ]
       ],
       "shape": {
        "columns": 7,
        "rows": 5
       }
      },
      "text/html": [
       "<div>\n",
       "<style scoped>\n",
       "    .dataframe tbody tr th:only-of-type {\n",
       "        vertical-align: middle;\n",
       "    }\n",
       "\n",
       "    .dataframe tbody tr th {\n",
       "        vertical-align: top;\n",
       "    }\n",
       "\n",
       "    .dataframe thead th {\n",
       "        text-align: right;\n",
       "    }\n",
       "</style>\n",
       "<table border=\"1\" class=\"dataframe\">\n",
       "  <thead>\n",
       "    <tr style=\"text-align: right;\">\n",
       "      <th></th>\n",
       "      <th>order_id</th>\n",
       "      <th>customer_name</th>\n",
       "      <th>product</th>\n",
       "      <th>quantity</th>\n",
       "      <th>unit_price</th>\n",
       "      <th>order_date</th>\n",
       "      <th>region</th>\n",
       "    </tr>\n",
       "  </thead>\n",
       "  <tbody>\n",
       "    <tr>\n",
       "      <th>0</th>\n",
       "      <td>1</td>\n",
       "      <td>Diana</td>\n",
       "      <td>Tablet</td>\n",
       "      <td>2.0</td>\n",
       "      <td>500.0</td>\n",
       "      <td>2024-01-20</td>\n",
       "      <td>South</td>\n",
       "    </tr>\n",
       "    <tr>\n",
       "      <th>1</th>\n",
       "      <td>2</td>\n",
       "      <td>Eve</td>\n",
       "      <td>Laptop</td>\n",
       "      <td>2.0</td>\n",
       "      <td>500.0</td>\n",
       "      <td>2024-04-29</td>\n",
       "      <td>North</td>\n",
       "    </tr>\n",
       "    <tr>\n",
       "      <th>2</th>\n",
       "      <td>3</td>\n",
       "      <td>Charlie</td>\n",
       "      <td>Laptop</td>\n",
       "      <td>2.0</td>\n",
       "      <td>250.0</td>\n",
       "      <td>2024-01-08</td>\n",
       "      <td>Unknown</td>\n",
       "    </tr>\n",
       "    <tr>\n",
       "      <th>3</th>\n",
       "      <td>4</td>\n",
       "      <td>Eve</td>\n",
       "      <td>Laptop</td>\n",
       "      <td>2.0</td>\n",
       "      <td>750.0</td>\n",
       "      <td>2024-01-07</td>\n",
       "      <td>West</td>\n",
       "    </tr>\n",
       "    <tr>\n",
       "      <th>4</th>\n",
       "      <td>5</td>\n",
       "      <td>Eve</td>\n",
       "      <td>Tablet</td>\n",
       "      <td>3.0</td>\n",
       "      <td>500.0</td>\n",
       "      <td>2024-03-07</td>\n",
       "      <td>South</td>\n",
       "    </tr>\n",
       "  </tbody>\n",
       "</table>\n",
       "</div>"
      ],
      "text/plain": [
       "   order_id customer_name product  quantity  unit_price  order_date   region\n",
       "0         1         Diana  Tablet       2.0       500.0  2024-01-20    South\n",
       "1         2           Eve  Laptop       2.0       500.0  2024-04-29    North\n",
       "2         3       Charlie  Laptop       2.0       250.0  2024-01-08  Unknown\n",
       "3         4           Eve  Laptop       2.0       750.0  2024-01-07     West\n",
       "4         5           Eve  Tablet       3.0       500.0  2024-03-07    South"
      ]
     },
     "execution_count": 2,
     "metadata": {},
     "output_type": "execute_result"
    }
   ],
   "source": [
    "# Fill missing customer_name with 'unknown'\n",
    "raw_data['customer_name'] = raw_data['customer_name'].fillna('unknown')\n",
    "\n",
    "# Fill quantity with the median of the column\n",
    "raw_data['quantity'] = raw_data['quantity'].fillna(raw_data['quantity'].median())\n",
    "\n",
    "# Fill unit_price with the median of the column\n",
    "raw_data['unit_price'] = raw_data['unit_price'].fillna(raw_data['unit_price'].median())\n",
    "\n",
    "# Forward fill the missing values in the date column\n",
    "raw_data['order_date'] = raw_data['order_date'].ffill()\n",
    "\n",
    "# Fill region with 'Unknown'\n",
    "raw_data['region'] = raw_data['region'].fillna('Unknown')\n",
    "\n",
    "# Drop duplicate rows\n",
    "raw_data_cleaned = raw_data.drop_duplicates()\n",
    "\n",
    "# Display the first few rows of the cleaned dataset\n",
    "raw_data_cleaned.head()"
   ]
  },
  {
   "cell_type": "markdown",
   "id": "303824bd",
   "metadata": {},
   "source": [
    "**2) Data Enrichment:**\n",
    "\n",
    "This involves adding new columns or modify existing ones to enhance the dataset. In this case, we will add a new column for the total price.\n",
    "\n",
    "    `total_price = quantity * price`\n"
   ]
  },
  {
   "cell_type": "code",
   "execution_count": 3,
   "id": "09d2ee45",
   "metadata": {},
   "outputs": [
    {
     "name": "stderr",
     "output_type": "stream",
     "text": [
      "C:\\Users\\admin\\AppData\\Local\\Temp\\ipykernel_17680\\1392200383.py:2: SettingWithCopyWarning: \n",
      "A value is trying to be set on a copy of a slice from a DataFrame.\n",
      "Try using .loc[row_indexer,col_indexer] = value instead\n",
      "\n",
      "See the caveats in the documentation: https://pandas.pydata.org/pandas-docs/stable/user_guide/indexing.html#returning-a-view-versus-a-copy\n",
      "  raw_data_cleaned.loc[:, 'total_spend'] = raw_data_cleaned['quantity'] * raw_data_cleaned['unit_price']\n"
     ]
    },
    {
     "data": {
      "application/vnd.microsoft.datawrangler.viewer.v0+json": {
       "columns": [
        {
         "name": "index",
         "rawType": "int64",
         "type": "integer"
        },
        {
         "name": "order_id",
         "rawType": "int64",
         "type": "integer"
        },
        {
         "name": "customer_name",
         "rawType": "object",
         "type": "string"
        },
        {
         "name": "product",
         "rawType": "object",
         "type": "string"
        },
        {
         "name": "quantity",
         "rawType": "float64",
         "type": "float"
        },
        {
         "name": "unit_price",
         "rawType": "float64",
         "type": "float"
        },
        {
         "name": "order_date",
         "rawType": "object",
         "type": "string"
        },
        {
         "name": "region",
         "rawType": "object",
         "type": "string"
        },
        {
         "name": "total_spend",
         "rawType": "float64",
         "type": "float"
        }
       ],
       "ref": "ae221722-7846-4603-beec-60aa46284ca1",
       "rows": [
        [
         "0",
         "1",
         "Diana",
         "Tablet",
         "2.0",
         "500.0",
         "2024-01-20",
         "South",
         "1000.0"
        ],
        [
         "1",
         "2",
         "Eve",
         "Laptop",
         "2.0",
         "500.0",
         "2024-04-29",
         "North",
         "1000.0"
        ],
        [
         "2",
         "3",
         "Charlie",
         "Laptop",
         "2.0",
         "250.0",
         "2024-01-08",
         "Unknown",
         "500.0"
        ],
        [
         "3",
         "4",
         "Eve",
         "Laptop",
         "2.0",
         "750.0",
         "2024-01-07",
         "West",
         "1500.0"
        ],
        [
         "4",
         "5",
         "Eve",
         "Tablet",
         "3.0",
         "500.0",
         "2024-03-07",
         "South",
         "1500.0"
        ]
       ],
       "shape": {
        "columns": 8,
        "rows": 5
       }
      },
      "text/html": [
       "<div>\n",
       "<style scoped>\n",
       "    .dataframe tbody tr th:only-of-type {\n",
       "        vertical-align: middle;\n",
       "    }\n",
       "\n",
       "    .dataframe tbody tr th {\n",
       "        vertical-align: top;\n",
       "    }\n",
       "\n",
       "    .dataframe thead th {\n",
       "        text-align: right;\n",
       "    }\n",
       "</style>\n",
       "<table border=\"1\" class=\"dataframe\">\n",
       "  <thead>\n",
       "    <tr style=\"text-align: right;\">\n",
       "      <th></th>\n",
       "      <th>order_id</th>\n",
       "      <th>customer_name</th>\n",
       "      <th>product</th>\n",
       "      <th>quantity</th>\n",
       "      <th>unit_price</th>\n",
       "      <th>order_date</th>\n",
       "      <th>region</th>\n",
       "      <th>total_spend</th>\n",
       "    </tr>\n",
       "  </thead>\n",
       "  <tbody>\n",
       "    <tr>\n",
       "      <th>0</th>\n",
       "      <td>1</td>\n",
       "      <td>Diana</td>\n",
       "      <td>Tablet</td>\n",
       "      <td>2.0</td>\n",
       "      <td>500.0</td>\n",
       "      <td>2024-01-20</td>\n",
       "      <td>South</td>\n",
       "      <td>1000.0</td>\n",
       "    </tr>\n",
       "    <tr>\n",
       "      <th>1</th>\n",
       "      <td>2</td>\n",
       "      <td>Eve</td>\n",
       "      <td>Laptop</td>\n",
       "      <td>2.0</td>\n",
       "      <td>500.0</td>\n",
       "      <td>2024-04-29</td>\n",
       "      <td>North</td>\n",
       "      <td>1000.0</td>\n",
       "    </tr>\n",
       "    <tr>\n",
       "      <th>2</th>\n",
       "      <td>3</td>\n",
       "      <td>Charlie</td>\n",
       "      <td>Laptop</td>\n",
       "      <td>2.0</td>\n",
       "      <td>250.0</td>\n",
       "      <td>2024-01-08</td>\n",
       "      <td>Unknown</td>\n",
       "      <td>500.0</td>\n",
       "    </tr>\n",
       "    <tr>\n",
       "      <th>3</th>\n",
       "      <td>4</td>\n",
       "      <td>Eve</td>\n",
       "      <td>Laptop</td>\n",
       "      <td>2.0</td>\n",
       "      <td>750.0</td>\n",
       "      <td>2024-01-07</td>\n",
       "      <td>West</td>\n",
       "      <td>1500.0</td>\n",
       "    </tr>\n",
       "    <tr>\n",
       "      <th>4</th>\n",
       "      <td>5</td>\n",
       "      <td>Eve</td>\n",
       "      <td>Tablet</td>\n",
       "      <td>3.0</td>\n",
       "      <td>500.0</td>\n",
       "      <td>2024-03-07</td>\n",
       "      <td>South</td>\n",
       "      <td>1500.0</td>\n",
       "    </tr>\n",
       "  </tbody>\n",
       "</table>\n",
       "</div>"
      ],
      "text/plain": [
       "   order_id customer_name product  quantity  unit_price  order_date   region  \\\n",
       "0         1         Diana  Tablet       2.0       500.0  2024-01-20    South   \n",
       "1         2           Eve  Laptop       2.0       500.0  2024-04-29    North   \n",
       "2         3       Charlie  Laptop       2.0       250.0  2024-01-08  Unknown   \n",
       "3         4           Eve  Laptop       2.0       750.0  2024-01-07     West   \n",
       "4         5           Eve  Tablet       3.0       500.0  2024-03-07    South   \n",
       "\n",
       "   total_spend  \n",
       "0       1000.0  \n",
       "1       1000.0  \n",
       "2        500.0  \n",
       "3       1500.0  \n",
       "4       1500.0  "
      ]
     },
     "execution_count": 3,
     "metadata": {},
     "output_type": "execute_result"
    }
   ],
   "source": [
    "# Calculate total price as quantity multiplied by unit price\n",
    "raw_data_cleaned.loc[:, 'total_spend'] = raw_data_cleaned['quantity'] * raw_data_cleaned['unit_price']\n",
    "raw_data_cleaned.head()"
   ]
  },
  {
   "cell_type": "markdown",
   "id": "7e93e889",
   "metadata": {},
   "source": [
    "**3) Structuring Data:**\n",
    "\n",
    "This step involves organizing the data into a structured format that is easy to analyze. We will ensure that the data types of each column are appropriate for analysis by converting the date column to a datetime format, and ensuring that numerical columns are of the correct type (e.g., integers or floats).\n"
   ]
  },
  {
   "cell_type": "code",
   "execution_count": 4,
   "id": "06661d87",
   "metadata": {},
   "outputs": [
    {
     "data": {
      "application/vnd.microsoft.datawrangler.viewer.v0+json": {
       "columns": [
        {
         "name": "index",
         "rawType": "int64",
         "type": "integer"
        },
        {
         "name": "order_id",
         "rawType": "int64",
         "type": "integer"
        },
        {
         "name": "customer_name",
         "rawType": "object",
         "type": "string"
        },
        {
         "name": "product",
         "rawType": "object",
         "type": "string"
        },
        {
         "name": "quantity",
         "rawType": "float64",
         "type": "float"
        },
        {
         "name": "unit_price",
         "rawType": "float64",
         "type": "float"
        },
        {
         "name": "order_date",
         "rawType": "object",
         "type": "unknown"
        },
        {
         "name": "region",
         "rawType": "object",
         "type": "string"
        },
        {
         "name": "total_spend",
         "rawType": "float64",
         "type": "float"
        }
       ],
       "ref": "82391359-ccae-4963-a6b5-53d7e780ca4c",
       "rows": [
        [
         "0",
         "1",
         "Diana",
         "Tablet",
         "2.0",
         "500.0",
         "2024-01-20 00:00:00",
         "South",
         "1000.0"
        ],
        [
         "1",
         "2",
         "Eve",
         "Laptop",
         "2.0",
         "500.0",
         "2024-04-29 00:00:00",
         "North",
         "1000.0"
        ],
        [
         "2",
         "3",
         "Charlie",
         "Laptop",
         "2.0",
         "250.0",
         "2024-01-08 00:00:00",
         "Unknown",
         "500.0"
        ],
        [
         "3",
         "4",
         "Eve",
         "Laptop",
         "2.0",
         "750.0",
         "2024-01-07 00:00:00",
         "West",
         "1500.0"
        ],
        [
         "4",
         "5",
         "Eve",
         "Tablet",
         "3.0",
         "500.0",
         "2024-03-07 00:00:00",
         "South",
         "1500.0"
        ]
       ],
       "shape": {
        "columns": 8,
        "rows": 5
       }
      },
      "text/html": [
       "<div>\n",
       "<style scoped>\n",
       "    .dataframe tbody tr th:only-of-type {\n",
       "        vertical-align: middle;\n",
       "    }\n",
       "\n",
       "    .dataframe tbody tr th {\n",
       "        vertical-align: top;\n",
       "    }\n",
       "\n",
       "    .dataframe thead th {\n",
       "        text-align: right;\n",
       "    }\n",
       "</style>\n",
       "<table border=\"1\" class=\"dataframe\">\n",
       "  <thead>\n",
       "    <tr style=\"text-align: right;\">\n",
       "      <th></th>\n",
       "      <th>order_id</th>\n",
       "      <th>customer_name</th>\n",
       "      <th>product</th>\n",
       "      <th>quantity</th>\n",
       "      <th>unit_price</th>\n",
       "      <th>order_date</th>\n",
       "      <th>region</th>\n",
       "      <th>total_spend</th>\n",
       "    </tr>\n",
       "  </thead>\n",
       "  <tbody>\n",
       "    <tr>\n",
       "      <th>0</th>\n",
       "      <td>1</td>\n",
       "      <td>Diana</td>\n",
       "      <td>Tablet</td>\n",
       "      <td>2.0</td>\n",
       "      <td>500.0</td>\n",
       "      <td>2024-01-20 00:00:00</td>\n",
       "      <td>South</td>\n",
       "      <td>1000.0</td>\n",
       "    </tr>\n",
       "    <tr>\n",
       "      <th>1</th>\n",
       "      <td>2</td>\n",
       "      <td>Eve</td>\n",
       "      <td>Laptop</td>\n",
       "      <td>2.0</td>\n",
       "      <td>500.0</td>\n",
       "      <td>2024-04-29 00:00:00</td>\n",
       "      <td>North</td>\n",
       "      <td>1000.0</td>\n",
       "    </tr>\n",
       "    <tr>\n",
       "      <th>2</th>\n",
       "      <td>3</td>\n",
       "      <td>Charlie</td>\n",
       "      <td>Laptop</td>\n",
       "      <td>2.0</td>\n",
       "      <td>250.0</td>\n",
       "      <td>2024-01-08 00:00:00</td>\n",
       "      <td>Unknown</td>\n",
       "      <td>500.0</td>\n",
       "    </tr>\n",
       "    <tr>\n",
       "      <th>3</th>\n",
       "      <td>4</td>\n",
       "      <td>Eve</td>\n",
       "      <td>Laptop</td>\n",
       "      <td>2.0</td>\n",
       "      <td>750.0</td>\n",
       "      <td>2024-01-07 00:00:00</td>\n",
       "      <td>West</td>\n",
       "      <td>1500.0</td>\n",
       "    </tr>\n",
       "    <tr>\n",
       "      <th>4</th>\n",
       "      <td>5</td>\n",
       "      <td>Eve</td>\n",
       "      <td>Tablet</td>\n",
       "      <td>3.0</td>\n",
       "      <td>500.0</td>\n",
       "      <td>2024-03-07 00:00:00</td>\n",
       "      <td>South</td>\n",
       "      <td>1500.0</td>\n",
       "    </tr>\n",
       "  </tbody>\n",
       "</table>\n",
       "</div>"
      ],
      "text/plain": [
       "   order_id customer_name product  quantity  unit_price           order_date  \\\n",
       "0         1         Diana  Tablet       2.0       500.0  2024-01-20 00:00:00   \n",
       "1         2           Eve  Laptop       2.0       500.0  2024-04-29 00:00:00   \n",
       "2         3       Charlie  Laptop       2.0       250.0  2024-01-08 00:00:00   \n",
       "3         4           Eve  Laptop       2.0       750.0  2024-01-07 00:00:00   \n",
       "4         5           Eve  Tablet       3.0       500.0  2024-03-07 00:00:00   \n",
       "\n",
       "    region  total_spend  \n",
       "0    South       1000.0  \n",
       "1    North       1000.0  \n",
       "2  Unknown        500.0  \n",
       "3     West       1500.0  \n",
       "4    South       1500.0  "
      ]
     },
     "execution_count": 4,
     "metadata": {},
     "output_type": "execute_result"
    }
   ],
   "source": [
    "# converting 'order_date' column to datetime format \n",
    "raw_data_cleaned.loc[:, 'order_date'] = pd.to_datetime(raw_data_cleaned['order_date'], errors='coerce')\n",
    "raw_data_cleaned.head()"
   ]
  },
  {
   "cell_type": "markdown",
   "id": "875bbebc",
   "metadata": {},
   "source": [
    "**4) Categorization:**\n",
    "\n",
    "This step invloves categorizing the data into meaningful groups. We will categorize the data based on the region and product type to facilitate analysis. In this case, we will create customer tiers based on the total price spent by each customer. The tiers will be defined as follows:\n",
    "- **Bronze**: Total price < 100\n",
    "- **Silver**: 100 <= Total price < 500\n",
    "- **Gold**: Total price >= 500\n",
    "- **Platinum**: Total price >= 1000\n"
   ]
  },
  {
   "cell_type": "code",
   "execution_count": 5,
   "id": "31af8393",
   "metadata": {},
   "outputs": [
    {
     "name": "stderr",
     "output_type": "stream",
     "text": [
      "C:\\Users\\admin\\AppData\\Local\\Temp\\ipykernel_17680\\4179876910.py:13: SettingWithCopyWarning: \n",
      "A value is trying to be set on a copy of a slice from a DataFrame.\n",
      "Try using .loc[row_indexer,col_indexer] = value instead\n",
      "\n",
      "See the caveats in the documentation: https://pandas.pydata.org/pandas-docs/stable/user_guide/indexing.html#returning-a-view-versus-a-copy\n",
      "  raw_data_cleaned.loc[:, 'customer_tier'] = raw_data_cleaned['total_spend'].apply(assign_tier)\n"
     ]
    },
    {
     "data": {
      "application/vnd.microsoft.datawrangler.viewer.v0+json": {
       "columns": [
        {
         "name": "index",
         "rawType": "int64",
         "type": "integer"
        },
        {
         "name": "order_id",
         "rawType": "int64",
         "type": "integer"
        },
        {
         "name": "customer_name",
         "rawType": "object",
         "type": "string"
        },
        {
         "name": "product",
         "rawType": "object",
         "type": "string"
        },
        {
         "name": "quantity",
         "rawType": "float64",
         "type": "float"
        },
        {
         "name": "unit_price",
         "rawType": "float64",
         "type": "float"
        },
        {
         "name": "order_date",
         "rawType": "object",
         "type": "unknown"
        },
        {
         "name": "region",
         "rawType": "object",
         "type": "string"
        },
        {
         "name": "total_spend",
         "rawType": "float64",
         "type": "float"
        },
        {
         "name": "customer_tier",
         "rawType": "object",
         "type": "string"
        }
       ],
       "ref": "40cbc959-6b8b-4fbe-96d0-d1b504bb9cf2",
       "rows": [
        [
         "0",
         "1",
         "Diana",
         "Tablet",
         "2.0",
         "500.0",
         "2024-01-20 00:00:00",
         "South",
         "1000.0",
         "Gold"
        ],
        [
         "1",
         "2",
         "Eve",
         "Laptop",
         "2.0",
         "500.0",
         "2024-04-29 00:00:00",
         "North",
         "1000.0",
         "Gold"
        ],
        [
         "2",
         "3",
         "Charlie",
         "Laptop",
         "2.0",
         "250.0",
         "2024-01-08 00:00:00",
         "Unknown",
         "500.0",
         "Silver"
        ],
        [
         "3",
         "4",
         "Eve",
         "Laptop",
         "2.0",
         "750.0",
         "2024-01-07 00:00:00",
         "West",
         "1500.0",
         "Platinum"
        ],
        [
         "4",
         "5",
         "Eve",
         "Tablet",
         "3.0",
         "500.0",
         "2024-03-07 00:00:00",
         "South",
         "1500.0",
         "Platinum"
        ]
       ],
       "shape": {
        "columns": 9,
        "rows": 5
       }
      },
      "text/html": [
       "<div>\n",
       "<style scoped>\n",
       "    .dataframe tbody tr th:only-of-type {\n",
       "        vertical-align: middle;\n",
       "    }\n",
       "\n",
       "    .dataframe tbody tr th {\n",
       "        vertical-align: top;\n",
       "    }\n",
       "\n",
       "    .dataframe thead th {\n",
       "        text-align: right;\n",
       "    }\n",
       "</style>\n",
       "<table border=\"1\" class=\"dataframe\">\n",
       "  <thead>\n",
       "    <tr style=\"text-align: right;\">\n",
       "      <th></th>\n",
       "      <th>order_id</th>\n",
       "      <th>customer_name</th>\n",
       "      <th>product</th>\n",
       "      <th>quantity</th>\n",
       "      <th>unit_price</th>\n",
       "      <th>order_date</th>\n",
       "      <th>region</th>\n",
       "      <th>total_spend</th>\n",
       "      <th>customer_tier</th>\n",
       "    </tr>\n",
       "  </thead>\n",
       "  <tbody>\n",
       "    <tr>\n",
       "      <th>0</th>\n",
       "      <td>1</td>\n",
       "      <td>Diana</td>\n",
       "      <td>Tablet</td>\n",
       "      <td>2.0</td>\n",
       "      <td>500.0</td>\n",
       "      <td>2024-01-20 00:00:00</td>\n",
       "      <td>South</td>\n",
       "      <td>1000.0</td>\n",
       "      <td>Gold</td>\n",
       "    </tr>\n",
       "    <tr>\n",
       "      <th>1</th>\n",
       "      <td>2</td>\n",
       "      <td>Eve</td>\n",
       "      <td>Laptop</td>\n",
       "      <td>2.0</td>\n",
       "      <td>500.0</td>\n",
       "      <td>2024-04-29 00:00:00</td>\n",
       "      <td>North</td>\n",
       "      <td>1000.0</td>\n",
       "      <td>Gold</td>\n",
       "    </tr>\n",
       "    <tr>\n",
       "      <th>2</th>\n",
       "      <td>3</td>\n",
       "      <td>Charlie</td>\n",
       "      <td>Laptop</td>\n",
       "      <td>2.0</td>\n",
       "      <td>250.0</td>\n",
       "      <td>2024-01-08 00:00:00</td>\n",
       "      <td>Unknown</td>\n",
       "      <td>500.0</td>\n",
       "      <td>Silver</td>\n",
       "    </tr>\n",
       "    <tr>\n",
       "      <th>3</th>\n",
       "      <td>4</td>\n",
       "      <td>Eve</td>\n",
       "      <td>Laptop</td>\n",
       "      <td>2.0</td>\n",
       "      <td>750.0</td>\n",
       "      <td>2024-01-07 00:00:00</td>\n",
       "      <td>West</td>\n",
       "      <td>1500.0</td>\n",
       "      <td>Platinum</td>\n",
       "    </tr>\n",
       "    <tr>\n",
       "      <th>4</th>\n",
       "      <td>5</td>\n",
       "      <td>Eve</td>\n",
       "      <td>Tablet</td>\n",
       "      <td>3.0</td>\n",
       "      <td>500.0</td>\n",
       "      <td>2024-03-07 00:00:00</td>\n",
       "      <td>South</td>\n",
       "      <td>1500.0</td>\n",
       "      <td>Platinum</td>\n",
       "    </tr>\n",
       "  </tbody>\n",
       "</table>\n",
       "</div>"
      ],
      "text/plain": [
       "   order_id customer_name product  quantity  unit_price           order_date  \\\n",
       "0         1         Diana  Tablet       2.0       500.0  2024-01-20 00:00:00   \n",
       "1         2           Eve  Laptop       2.0       500.0  2024-04-29 00:00:00   \n",
       "2         3       Charlie  Laptop       2.0       250.0  2024-01-08 00:00:00   \n",
       "3         4           Eve  Laptop       2.0       750.0  2024-01-07 00:00:00   \n",
       "4         5           Eve  Tablet       3.0       500.0  2024-03-07 00:00:00   \n",
       "\n",
       "    region  total_spend customer_tier  \n",
       "0    South       1000.0          Gold  \n",
       "1    North       1000.0          Gold  \n",
       "2  Unknown        500.0        Silver  \n",
       "3     West       1500.0      Platinum  \n",
       "4    South       1500.0      Platinum  "
      ]
     },
     "execution_count": 5,
     "metadata": {},
     "output_type": "execute_result"
    }
   ],
   "source": [
    "# Create Customer Tier Based on Spend\n",
    "def assign_tier(spend):\n",
    "    if spend <= 100:\n",
    "        return 'Bronze'\n",
    "    elif spend <= 500:\n",
    "        return 'Silver'\n",
    "    elif spend <= 1000:\n",
    "        return 'Gold'\n",
    "    else:\n",
    "        return 'Platinum'\n",
    "\n",
    "# Apply the function to create a new column 'customer_tier'\n",
    "raw_data_cleaned.loc[:, 'customer_tier'] = raw_data_cleaned['total_spend'].apply(assign_tier)\n",
    "\n",
    "# Save the cleaned data to a new CSV file\n",
    "raw_data_cleaned.to_csv(\"Transformed/transformed_full.csv\", index=False)\n",
    "raw_data_cleaned.head()"
   ]
  },
  {
   "cell_type": "markdown",
   "id": "19148447",
   "metadata": {},
   "source": [
    "In the next section, we will implement the transformation on the `incremental data` to ensure that the new data is consistent with the existing dataset. This will involve applying the same cleaning, enrichment, structuring, and categorization steps to the incremental data.\n",
    "\n",
    "**1) Data Cleaning:**\n",
    "   - Handle missing values in the same way as the raw data.\n",
    "   - Since there were no duplicates in the incremental data, we will not remove any duplicates.\n"
   ]
  },
  {
   "cell_type": "code",
   "execution_count": 6,
   "id": "558fcc2b",
   "metadata": {},
   "outputs": [
    {
     "name": "stdout",
     "output_type": "stream",
     "text": [
      "Missing values in incremental data:\n",
      "order_id         0\n",
      "customer_name    6\n",
      "product          0\n",
      "quantity         4\n",
      "unit_price       0\n",
      "order_date       0\n",
      "region           2\n",
      "dtype: int64\n",
      "Number of duplicate rows in incremental data: 0\n"
     ]
    },
    {
     "data": {
      "application/vnd.microsoft.datawrangler.viewer.v0+json": {
       "columns": [
        {
         "name": "index",
         "rawType": "int64",
         "type": "integer"
        },
        {
         "name": "order_id",
         "rawType": "int64",
         "type": "integer"
        },
        {
         "name": "customer_name",
         "rawType": "object",
         "type": "string"
        },
        {
         "name": "product",
         "rawType": "object",
         "type": "string"
        },
        {
         "name": "quantity",
         "rawType": "float64",
         "type": "float"
        },
        {
         "name": "unit_price",
         "rawType": "float64",
         "type": "float"
        },
        {
         "name": "order_date",
         "rawType": "object",
         "type": "string"
        },
        {
         "name": "region",
         "rawType": "object",
         "type": "string"
        }
       ],
       "ref": "b861e49b-4ea3-4eec-9f2e-025fb760a30a",
       "rows": [
        [
         "0",
         "101",
         "Alice",
         "Laptop",
         "1.5",
         "900.0",
         "2024-05-09",
         "Central"
        ],
        [
         "1",
         "102",
         "Unknown",
         "Laptop",
         "1.0",
         "300.0",
         "2024-05-07",
         "Central"
        ],
        [
         "2",
         "103",
         "Unknown",
         "Laptop",
         "1.0",
         "600.0",
         "2024-05-04",
         "Central"
        ],
        [
         "3",
         "104",
         "Unknown",
         "Tablet",
         "1.5",
         "300.0",
         "2024-05-26",
         "Central"
        ],
        [
         "4",
         "105",
         "Heidi",
         "Tablet",
         "2.0",
         "600.0",
         "2024-05-21",
         "North"
        ]
       ],
       "shape": {
        "columns": 7,
        "rows": 5
       }
      },
      "text/html": [
       "<div>\n",
       "<style scoped>\n",
       "    .dataframe tbody tr th:only-of-type {\n",
       "        vertical-align: middle;\n",
       "    }\n",
       "\n",
       "    .dataframe tbody tr th {\n",
       "        vertical-align: top;\n",
       "    }\n",
       "\n",
       "    .dataframe thead th {\n",
       "        text-align: right;\n",
       "    }\n",
       "</style>\n",
       "<table border=\"1\" class=\"dataframe\">\n",
       "  <thead>\n",
       "    <tr style=\"text-align: right;\">\n",
       "      <th></th>\n",
       "      <th>order_id</th>\n",
       "      <th>customer_name</th>\n",
       "      <th>product</th>\n",
       "      <th>quantity</th>\n",
       "      <th>unit_price</th>\n",
       "      <th>order_date</th>\n",
       "      <th>region</th>\n",
       "    </tr>\n",
       "  </thead>\n",
       "  <tbody>\n",
       "    <tr>\n",
       "      <th>0</th>\n",
       "      <td>101</td>\n",
       "      <td>Alice</td>\n",
       "      <td>Laptop</td>\n",
       "      <td>1.5</td>\n",
       "      <td>900.0</td>\n",
       "      <td>2024-05-09</td>\n",
       "      <td>Central</td>\n",
       "    </tr>\n",
       "    <tr>\n",
       "      <th>1</th>\n",
       "      <td>102</td>\n",
       "      <td>Unknown</td>\n",
       "      <td>Laptop</td>\n",
       "      <td>1.0</td>\n",
       "      <td>300.0</td>\n",
       "      <td>2024-05-07</td>\n",
       "      <td>Central</td>\n",
       "    </tr>\n",
       "    <tr>\n",
       "      <th>2</th>\n",
       "      <td>103</td>\n",
       "      <td>Unknown</td>\n",
       "      <td>Laptop</td>\n",
       "      <td>1.0</td>\n",
       "      <td>600.0</td>\n",
       "      <td>2024-05-04</td>\n",
       "      <td>Central</td>\n",
       "    </tr>\n",
       "    <tr>\n",
       "      <th>3</th>\n",
       "      <td>104</td>\n",
       "      <td>Unknown</td>\n",
       "      <td>Tablet</td>\n",
       "      <td>1.5</td>\n",
       "      <td>300.0</td>\n",
       "      <td>2024-05-26</td>\n",
       "      <td>Central</td>\n",
       "    </tr>\n",
       "    <tr>\n",
       "      <th>4</th>\n",
       "      <td>105</td>\n",
       "      <td>Heidi</td>\n",
       "      <td>Tablet</td>\n",
       "      <td>2.0</td>\n",
       "      <td>600.0</td>\n",
       "      <td>2024-05-21</td>\n",
       "      <td>North</td>\n",
       "    </tr>\n",
       "  </tbody>\n",
       "</table>\n",
       "</div>"
      ],
      "text/plain": [
       "   order_id customer_name product  quantity  unit_price  order_date   region\n",
       "0       101         Alice  Laptop       1.5       900.0  2024-05-09  Central\n",
       "1       102       Unknown  Laptop       1.0       300.0  2024-05-07  Central\n",
       "2       103       Unknown  Laptop       1.0       600.0  2024-05-04  Central\n",
       "3       104       Unknown  Tablet       1.5       300.0  2024-05-26  Central\n",
       "4       105         Heidi  Tablet       2.0       600.0  2024-05-21    North"
      ]
     },
     "execution_count": 6,
     "metadata": {},
     "output_type": "execute_result"
    }
   ],
   "source": [
    "# loading incremental data\n",
    "incremental_data = pd.read_csv(\"Data/incremental_data.csv\")\n",
    "\n",
    "# Check for missing values in incremental data\n",
    "missing_values_incremental = incremental_data.isnull().sum()\n",
    "# Print the missing values in incremental data\n",
    "print(f\"Missing values in incremental data:\\n{missing_values_incremental}\")\n",
    "\n",
    "# Check for duplicate rows in incremental data\n",
    "duplicate_rows_incremental = incremental_data.duplicated().sum()\n",
    "# Print the number of duplicate rows in incremental data\n",
    "print(f\"Number of duplicate rows in incremental data: {duplicate_rows_incremental}\")\n",
    "\n",
    "# Fill missing customer_name with 'unknown' in incremental data\n",
    "incremental_data['customer_name'] = incremental_data['customer_name'].fillna('Unknown')\n",
    "\n",
    "# Fill quantity with the median of the column in incremental data\n",
    "incremental_data['quantity'] = incremental_data['quantity'].fillna(incremental_data['quantity'].median())\n",
    "\n",
    "# Fill region with 'Unknown' in incremental data\n",
    "incremental_data['region'] = incremental_data['region'].fillna('Unknown')\n",
    "incremental_data.head()"
   ]
  },
  {
   "cell_type": "markdown",
   "id": "98a534aa",
   "metadata": {},
   "source": [
    "**2) Structuring Data:**\n",
    "   - Ensure that the data types of each column are appropriate for analysis, similar to the raw data.\n",
    "   "
   ]
  },
  {
   "cell_type": "code",
   "execution_count": 7,
   "id": "e9a4869b",
   "metadata": {},
   "outputs": [
    {
     "data": {
      "application/vnd.microsoft.datawrangler.viewer.v0+json": {
       "columns": [
        {
         "name": "index",
         "rawType": "int64",
         "type": "integer"
        },
        {
         "name": "order_id",
         "rawType": "int64",
         "type": "integer"
        },
        {
         "name": "customer_name",
         "rawType": "object",
         "type": "string"
        },
        {
         "name": "product",
         "rawType": "object",
         "type": "string"
        },
        {
         "name": "quantity",
         "rawType": "float64",
         "type": "float"
        },
        {
         "name": "unit_price",
         "rawType": "float64",
         "type": "float"
        },
        {
         "name": "order_date",
         "rawType": "object",
         "type": "unknown"
        },
        {
         "name": "region",
         "rawType": "object",
         "type": "string"
        }
       ],
       "ref": "a2e57aea-8d57-4661-a035-a062e69fdc3e",
       "rows": [
        [
         "0",
         "101",
         "Alice",
         "Laptop",
         "1.5",
         "900.0",
         "2024-05-09 00:00:00",
         "Central"
        ],
        [
         "1",
         "102",
         "Unknown",
         "Laptop",
         "1.0",
         "300.0",
         "2024-05-07 00:00:00",
         "Central"
        ],
        [
         "2",
         "103",
         "Unknown",
         "Laptop",
         "1.0",
         "600.0",
         "2024-05-04 00:00:00",
         "Central"
        ],
        [
         "3",
         "104",
         "Unknown",
         "Tablet",
         "1.5",
         "300.0",
         "2024-05-26 00:00:00",
         "Central"
        ],
        [
         "4",
         "105",
         "Heidi",
         "Tablet",
         "2.0",
         "600.0",
         "2024-05-21 00:00:00",
         "North"
        ]
       ],
       "shape": {
        "columns": 7,
        "rows": 5
       }
      },
      "text/html": [
       "<div>\n",
       "<style scoped>\n",
       "    .dataframe tbody tr th:only-of-type {\n",
       "        vertical-align: middle;\n",
       "    }\n",
       "\n",
       "    .dataframe tbody tr th {\n",
       "        vertical-align: top;\n",
       "    }\n",
       "\n",
       "    .dataframe thead th {\n",
       "        text-align: right;\n",
       "    }\n",
       "</style>\n",
       "<table border=\"1\" class=\"dataframe\">\n",
       "  <thead>\n",
       "    <tr style=\"text-align: right;\">\n",
       "      <th></th>\n",
       "      <th>order_id</th>\n",
       "      <th>customer_name</th>\n",
       "      <th>product</th>\n",
       "      <th>quantity</th>\n",
       "      <th>unit_price</th>\n",
       "      <th>order_date</th>\n",
       "      <th>region</th>\n",
       "    </tr>\n",
       "  </thead>\n",
       "  <tbody>\n",
       "    <tr>\n",
       "      <th>0</th>\n",
       "      <td>101</td>\n",
       "      <td>Alice</td>\n",
       "      <td>Laptop</td>\n",
       "      <td>1.5</td>\n",
       "      <td>900.0</td>\n",
       "      <td>2024-05-09 00:00:00</td>\n",
       "      <td>Central</td>\n",
       "    </tr>\n",
       "    <tr>\n",
       "      <th>1</th>\n",
       "      <td>102</td>\n",
       "      <td>Unknown</td>\n",
       "      <td>Laptop</td>\n",
       "      <td>1.0</td>\n",
       "      <td>300.0</td>\n",
       "      <td>2024-05-07 00:00:00</td>\n",
       "      <td>Central</td>\n",
       "    </tr>\n",
       "    <tr>\n",
       "      <th>2</th>\n",
       "      <td>103</td>\n",
       "      <td>Unknown</td>\n",
       "      <td>Laptop</td>\n",
       "      <td>1.0</td>\n",
       "      <td>600.0</td>\n",
       "      <td>2024-05-04 00:00:00</td>\n",
       "      <td>Central</td>\n",
       "    </tr>\n",
       "    <tr>\n",
       "      <th>3</th>\n",
       "      <td>104</td>\n",
       "      <td>Unknown</td>\n",
       "      <td>Tablet</td>\n",
       "      <td>1.5</td>\n",
       "      <td>300.0</td>\n",
       "      <td>2024-05-26 00:00:00</td>\n",
       "      <td>Central</td>\n",
       "    </tr>\n",
       "    <tr>\n",
       "      <th>4</th>\n",
       "      <td>105</td>\n",
       "      <td>Heidi</td>\n",
       "      <td>Tablet</td>\n",
       "      <td>2.0</td>\n",
       "      <td>600.0</td>\n",
       "      <td>2024-05-21 00:00:00</td>\n",
       "      <td>North</td>\n",
       "    </tr>\n",
       "  </tbody>\n",
       "</table>\n",
       "</div>"
      ],
      "text/plain": [
       "   order_id customer_name product  quantity  unit_price           order_date  \\\n",
       "0       101         Alice  Laptop       1.5       900.0  2024-05-09 00:00:00   \n",
       "1       102       Unknown  Laptop       1.0       300.0  2024-05-07 00:00:00   \n",
       "2       103       Unknown  Laptop       1.0       600.0  2024-05-04 00:00:00   \n",
       "3       104       Unknown  Tablet       1.5       300.0  2024-05-26 00:00:00   \n",
       "4       105         Heidi  Tablet       2.0       600.0  2024-05-21 00:00:00   \n",
       "\n",
       "    region  \n",
       "0  Central  \n",
       "1  Central  \n",
       "2  Central  \n",
       "3  Central  \n",
       "4    North  "
      ]
     },
     "execution_count": 7,
     "metadata": {},
     "output_type": "execute_result"
    }
   ],
   "source": [
    "# Convert 'order_date' column to datetime format in incremental data\n",
    "incremental_data.loc[:, 'order_date'] = pd.to_datetime(incremental_data['order_date'], errors='coerce')\n",
    "incremental_data.head()"
   ]
  },
  {
   "cell_type": "markdown",
   "id": "41f13192",
   "metadata": {},
   "source": [
    "**3) Filtering:**\n",
    "   - Filter the incremental data to include only the relevant columns for analysis. \n",
    "   - In this case, we will drop the `customer_name` column assuming I am doing anonymous analysis and do not need to retain customer names. I will also drop records where the `region` is \"Unknown\" to ensure that the analysis is focused on known regions."
   ]
  },
  {
   "cell_type": "code",
   "execution_count": 8,
   "id": "ef79459d",
   "metadata": {},
   "outputs": [
    {
     "data": {
      "application/vnd.microsoft.datawrangler.viewer.v0+json": {
       "columns": [
        {
         "name": "index",
         "rawType": "int64",
         "type": "integer"
        },
        {
         "name": "order_id",
         "rawType": "int64",
         "type": "integer"
        },
        {
         "name": "product",
         "rawType": "object",
         "type": "string"
        },
        {
         "name": "quantity",
         "rawType": "float64",
         "type": "float"
        },
        {
         "name": "unit_price",
         "rawType": "float64",
         "type": "float"
        },
        {
         "name": "order_date",
         "rawType": "object",
         "type": "unknown"
        },
        {
         "name": "region",
         "rawType": "object",
         "type": "string"
        }
       ],
       "ref": "25cba521-6617-4196-9e81-f5200fc62f07",
       "rows": [
        [
         "0",
         "101",
         "Laptop",
         "1.5",
         "900.0",
         "2024-05-09 00:00:00",
         "Central"
        ],
        [
         "1",
         "102",
         "Laptop",
         "1.0",
         "300.0",
         "2024-05-07 00:00:00",
         "Central"
        ],
        [
         "2",
         "103",
         "Laptop",
         "1.0",
         "600.0",
         "2024-05-04 00:00:00",
         "Central"
        ],
        [
         "3",
         "104",
         "Tablet",
         "1.5",
         "300.0",
         "2024-05-26 00:00:00",
         "Central"
        ],
        [
         "4",
         "105",
         "Tablet",
         "2.0",
         "600.0",
         "2024-05-21 00:00:00",
         "North"
        ]
       ],
       "shape": {
        "columns": 6,
        "rows": 5
       }
      },
      "text/html": [
       "<div>\n",
       "<style scoped>\n",
       "    .dataframe tbody tr th:only-of-type {\n",
       "        vertical-align: middle;\n",
       "    }\n",
       "\n",
       "    .dataframe tbody tr th {\n",
       "        vertical-align: top;\n",
       "    }\n",
       "\n",
       "    .dataframe thead th {\n",
       "        text-align: right;\n",
       "    }\n",
       "</style>\n",
       "<table border=\"1\" class=\"dataframe\">\n",
       "  <thead>\n",
       "    <tr style=\"text-align: right;\">\n",
       "      <th></th>\n",
       "      <th>order_id</th>\n",
       "      <th>product</th>\n",
       "      <th>quantity</th>\n",
       "      <th>unit_price</th>\n",
       "      <th>order_date</th>\n",
       "      <th>region</th>\n",
       "    </tr>\n",
       "  </thead>\n",
       "  <tbody>\n",
       "    <tr>\n",
       "      <th>0</th>\n",
       "      <td>101</td>\n",
       "      <td>Laptop</td>\n",
       "      <td>1.5</td>\n",
       "      <td>900.0</td>\n",
       "      <td>2024-05-09 00:00:00</td>\n",
       "      <td>Central</td>\n",
       "    </tr>\n",
       "    <tr>\n",
       "      <th>1</th>\n",
       "      <td>102</td>\n",
       "      <td>Laptop</td>\n",
       "      <td>1.0</td>\n",
       "      <td>300.0</td>\n",
       "      <td>2024-05-07 00:00:00</td>\n",
       "      <td>Central</td>\n",
       "    </tr>\n",
       "    <tr>\n",
       "      <th>2</th>\n",
       "      <td>103</td>\n",
       "      <td>Laptop</td>\n",
       "      <td>1.0</td>\n",
       "      <td>600.0</td>\n",
       "      <td>2024-05-04 00:00:00</td>\n",
       "      <td>Central</td>\n",
       "    </tr>\n",
       "    <tr>\n",
       "      <th>3</th>\n",
       "      <td>104</td>\n",
       "      <td>Tablet</td>\n",
       "      <td>1.5</td>\n",
       "      <td>300.0</td>\n",
       "      <td>2024-05-26 00:00:00</td>\n",
       "      <td>Central</td>\n",
       "    </tr>\n",
       "    <tr>\n",
       "      <th>4</th>\n",
       "      <td>105</td>\n",
       "      <td>Tablet</td>\n",
       "      <td>2.0</td>\n",
       "      <td>600.0</td>\n",
       "      <td>2024-05-21 00:00:00</td>\n",
       "      <td>North</td>\n",
       "    </tr>\n",
       "  </tbody>\n",
       "</table>\n",
       "</div>"
      ],
      "text/plain": [
       "   order_id product  quantity  unit_price           order_date   region\n",
       "0       101  Laptop       1.5       900.0  2024-05-09 00:00:00  Central\n",
       "1       102  Laptop       1.0       300.0  2024-05-07 00:00:00  Central\n",
       "2       103  Laptop       1.0       600.0  2024-05-04 00:00:00  Central\n",
       "3       104  Tablet       1.5       300.0  2024-05-26 00:00:00  Central\n",
       "4       105  Tablet       2.0       600.0  2024-05-21 00:00:00    North"
      ]
     },
     "execution_count": 8,
     "metadata": {},
     "output_type": "execute_result"
    }
   ],
   "source": [
    "# Drop customer_name column from incremental data\n",
    "incremental_data = incremental_data.drop(columns=['customer_name'])\n",
    "\n",
    "# Drop records where the region is 'Unknown' \n",
    "incremental_data = incremental_data[incremental_data['region'] != 'Unknown']\n",
    "incremental_data.head()\n"
   ]
  },
  {
   "cell_type": "markdown",
   "id": "296c4444",
   "metadata": {},
   "source": [
    "**3) Categorization:**\n",
    "   - For the Incremental data, we will use One-Hot Encoding to categorize the data based on the region and prduct type. This will create binary columns for each category, allowing for easier analysis."
   ]
  },
  {
   "cell_type": "code",
   "execution_count": 9,
   "id": "8bb62717",
   "metadata": {},
   "outputs": [
    {
     "data": {
      "application/vnd.microsoft.datawrangler.viewer.v0+json": {
       "columns": [
        {
         "name": "index",
         "rawType": "int64",
         "type": "integer"
        },
        {
         "name": "order_id",
         "rawType": "int64",
         "type": "integer"
        },
        {
         "name": "quantity",
         "rawType": "float64",
         "type": "float"
        },
        {
         "name": "unit_price",
         "rawType": "float64",
         "type": "float"
        },
        {
         "name": "order_date",
         "rawType": "object",
         "type": "unknown"
        },
        {
         "name": "prod_Laptop",
         "rawType": "bool",
         "type": "boolean"
        },
        {
         "name": "prod_Tablet",
         "rawType": "bool",
         "type": "boolean"
        },
        {
         "name": "reg_Central",
         "rawType": "bool",
         "type": "boolean"
        },
        {
         "name": "reg_North",
         "rawType": "bool",
         "type": "boolean"
        }
       ],
       "ref": "f2e98971-4d2d-4e93-af31-a5852cf2ea52",
       "rows": [
        [
         "0",
         "101",
         "1.5",
         "900.0",
         "2024-05-09 00:00:00",
         "True",
         "False",
         "True",
         "False"
        ],
        [
         "1",
         "102",
         "1.0",
         "300.0",
         "2024-05-07 00:00:00",
         "True",
         "False",
         "True",
         "False"
        ],
        [
         "2",
         "103",
         "1.0",
         "600.0",
         "2024-05-04 00:00:00",
         "True",
         "False",
         "True",
         "False"
        ],
        [
         "3",
         "104",
         "1.5",
         "300.0",
         "2024-05-26 00:00:00",
         "False",
         "True",
         "True",
         "False"
        ],
        [
         "4",
         "105",
         "2.0",
         "600.0",
         "2024-05-21 00:00:00",
         "False",
         "True",
         "False",
         "True"
        ]
       ],
       "shape": {
        "columns": 8,
        "rows": 5
       }
      },
      "text/html": [
       "<div>\n",
       "<style scoped>\n",
       "    .dataframe tbody tr th:only-of-type {\n",
       "        vertical-align: middle;\n",
       "    }\n",
       "\n",
       "    .dataframe tbody tr th {\n",
       "        vertical-align: top;\n",
       "    }\n",
       "\n",
       "    .dataframe thead th {\n",
       "        text-align: right;\n",
       "    }\n",
       "</style>\n",
       "<table border=\"1\" class=\"dataframe\">\n",
       "  <thead>\n",
       "    <tr style=\"text-align: right;\">\n",
       "      <th></th>\n",
       "      <th>order_id</th>\n",
       "      <th>quantity</th>\n",
       "      <th>unit_price</th>\n",
       "      <th>order_date</th>\n",
       "      <th>prod_Laptop</th>\n",
       "      <th>prod_Tablet</th>\n",
       "      <th>reg_Central</th>\n",
       "      <th>reg_North</th>\n",
       "    </tr>\n",
       "  </thead>\n",
       "  <tbody>\n",
       "    <tr>\n",
       "      <th>0</th>\n",
       "      <td>101</td>\n",
       "      <td>1.5</td>\n",
       "      <td>900.0</td>\n",
       "      <td>2024-05-09 00:00:00</td>\n",
       "      <td>True</td>\n",
       "      <td>False</td>\n",
       "      <td>True</td>\n",
       "      <td>False</td>\n",
       "    </tr>\n",
       "    <tr>\n",
       "      <th>1</th>\n",
       "      <td>102</td>\n",
       "      <td>1.0</td>\n",
       "      <td>300.0</td>\n",
       "      <td>2024-05-07 00:00:00</td>\n",
       "      <td>True</td>\n",
       "      <td>False</td>\n",
       "      <td>True</td>\n",
       "      <td>False</td>\n",
       "    </tr>\n",
       "    <tr>\n",
       "      <th>2</th>\n",
       "      <td>103</td>\n",
       "      <td>1.0</td>\n",
       "      <td>600.0</td>\n",
       "      <td>2024-05-04 00:00:00</td>\n",
       "      <td>True</td>\n",
       "      <td>False</td>\n",
       "      <td>True</td>\n",
       "      <td>False</td>\n",
       "    </tr>\n",
       "    <tr>\n",
       "      <th>3</th>\n",
       "      <td>104</td>\n",
       "      <td>1.5</td>\n",
       "      <td>300.0</td>\n",
       "      <td>2024-05-26 00:00:00</td>\n",
       "      <td>False</td>\n",
       "      <td>True</td>\n",
       "      <td>True</td>\n",
       "      <td>False</td>\n",
       "    </tr>\n",
       "    <tr>\n",
       "      <th>4</th>\n",
       "      <td>105</td>\n",
       "      <td>2.0</td>\n",
       "      <td>600.0</td>\n",
       "      <td>2024-05-21 00:00:00</td>\n",
       "      <td>False</td>\n",
       "      <td>True</td>\n",
       "      <td>False</td>\n",
       "      <td>True</td>\n",
       "    </tr>\n",
       "  </tbody>\n",
       "</table>\n",
       "</div>"
      ],
      "text/plain": [
       "   order_id  quantity  unit_price           order_date  prod_Laptop  \\\n",
       "0       101       1.5       900.0  2024-05-09 00:00:00         True   \n",
       "1       102       1.0       300.0  2024-05-07 00:00:00         True   \n",
       "2       103       1.0       600.0  2024-05-04 00:00:00         True   \n",
       "3       104       1.5       300.0  2024-05-26 00:00:00        False   \n",
       "4       105       2.0       600.0  2024-05-21 00:00:00        False   \n",
       "\n",
       "   prod_Tablet  reg_Central  reg_North  \n",
       "0        False         True      False  \n",
       "1        False         True      False  \n",
       "2        False         True      False  \n",
       "3         True         True      False  \n",
       "4         True        False       True  "
      ]
     },
     "execution_count": 9,
     "metadata": {},
     "output_type": "execute_result"
    }
   ],
   "source": [
    "# Convert categorical columns to dummy variables \n",
    "incremental_data = pd.get_dummies(incremental_data, columns=['product', 'region'], prefix=['prod', 'reg'])\n",
    "incremental_data.head()"
   ]
  },
  {
   "cell_type": "markdown",
   "id": "981a001f",
   "metadata": {},
   "source": [
    "**4) Data Enrichment:**\n",
    "   - Add the `total_price` column to the incremental data in the same way as the raw data.\n",
    "   - By doing this, we can calculate the total spend per region and product type, which will be useful for analysis."
   ]
  },
  {
   "cell_type": "code",
   "execution_count": 10,
   "id": "1983e196",
   "metadata": {},
   "outputs": [
    {
     "data": {
      "application/vnd.microsoft.datawrangler.viewer.v0+json": {
       "columns": [
        {
         "name": "index",
         "rawType": "int64",
         "type": "integer"
        },
        {
         "name": "order_id",
         "rawType": "int64",
         "type": "integer"
        },
        {
         "name": "quantity",
         "rawType": "float64",
         "type": "float"
        },
        {
         "name": "unit_price",
         "rawType": "float64",
         "type": "float"
        },
        {
         "name": "order_date",
         "rawType": "object",
         "type": "unknown"
        },
        {
         "name": "prod_Laptop",
         "rawType": "bool",
         "type": "boolean"
        },
        {
         "name": "prod_Tablet",
         "rawType": "bool",
         "type": "boolean"
        },
        {
         "name": "reg_Central",
         "rawType": "bool",
         "type": "boolean"
        },
        {
         "name": "reg_North",
         "rawType": "bool",
         "type": "boolean"
        },
        {
         "name": "total_spend",
         "rawType": "float64",
         "type": "float"
        }
       ],
       "ref": "ee0ba507-e793-4c55-9c5c-8d44ddf728ba",
       "rows": [
        [
         "0",
         "101",
         "1.5",
         "900.0",
         "2024-05-09 00:00:00",
         "True",
         "False",
         "True",
         "False",
         "1350.0"
        ],
        [
         "1",
         "102",
         "1.0",
         "300.0",
         "2024-05-07 00:00:00",
         "True",
         "False",
         "True",
         "False",
         "300.0"
        ],
        [
         "2",
         "103",
         "1.0",
         "600.0",
         "2024-05-04 00:00:00",
         "True",
         "False",
         "True",
         "False",
         "600.0"
        ],
        [
         "3",
         "104",
         "1.5",
         "300.0",
         "2024-05-26 00:00:00",
         "False",
         "True",
         "True",
         "False",
         "450.0"
        ],
        [
         "4",
         "105",
         "2.0",
         "600.0",
         "2024-05-21 00:00:00",
         "False",
         "True",
         "False",
         "True",
         "1200.0"
        ]
       ],
       "shape": {
        "columns": 9,
        "rows": 5
       }
      },
      "text/html": [
       "<div>\n",
       "<style scoped>\n",
       "    .dataframe tbody tr th:only-of-type {\n",
       "        vertical-align: middle;\n",
       "    }\n",
       "\n",
       "    .dataframe tbody tr th {\n",
       "        vertical-align: top;\n",
       "    }\n",
       "\n",
       "    .dataframe thead th {\n",
       "        text-align: right;\n",
       "    }\n",
       "</style>\n",
       "<table border=\"1\" class=\"dataframe\">\n",
       "  <thead>\n",
       "    <tr style=\"text-align: right;\">\n",
       "      <th></th>\n",
       "      <th>order_id</th>\n",
       "      <th>quantity</th>\n",
       "      <th>unit_price</th>\n",
       "      <th>order_date</th>\n",
       "      <th>prod_Laptop</th>\n",
       "      <th>prod_Tablet</th>\n",
       "      <th>reg_Central</th>\n",
       "      <th>reg_North</th>\n",
       "      <th>total_spend</th>\n",
       "    </tr>\n",
       "  </thead>\n",
       "  <tbody>\n",
       "    <tr>\n",
       "      <th>0</th>\n",
       "      <td>101</td>\n",
       "      <td>1.5</td>\n",
       "      <td>900.0</td>\n",
       "      <td>2024-05-09 00:00:00</td>\n",
       "      <td>True</td>\n",
       "      <td>False</td>\n",
       "      <td>True</td>\n",
       "      <td>False</td>\n",
       "      <td>1350.0</td>\n",
       "    </tr>\n",
       "    <tr>\n",
       "      <th>1</th>\n",
       "      <td>102</td>\n",
       "      <td>1.0</td>\n",
       "      <td>300.0</td>\n",
       "      <td>2024-05-07 00:00:00</td>\n",
       "      <td>True</td>\n",
       "      <td>False</td>\n",
       "      <td>True</td>\n",
       "      <td>False</td>\n",
       "      <td>300.0</td>\n",
       "    </tr>\n",
       "    <tr>\n",
       "      <th>2</th>\n",
       "      <td>103</td>\n",
       "      <td>1.0</td>\n",
       "      <td>600.0</td>\n",
       "      <td>2024-05-04 00:00:00</td>\n",
       "      <td>True</td>\n",
       "      <td>False</td>\n",
       "      <td>True</td>\n",
       "      <td>False</td>\n",
       "      <td>600.0</td>\n",
       "    </tr>\n",
       "    <tr>\n",
       "      <th>3</th>\n",
       "      <td>104</td>\n",
       "      <td>1.5</td>\n",
       "      <td>300.0</td>\n",
       "      <td>2024-05-26 00:00:00</td>\n",
       "      <td>False</td>\n",
       "      <td>True</td>\n",
       "      <td>True</td>\n",
       "      <td>False</td>\n",
       "      <td>450.0</td>\n",
       "    </tr>\n",
       "    <tr>\n",
       "      <th>4</th>\n",
       "      <td>105</td>\n",
       "      <td>2.0</td>\n",
       "      <td>600.0</td>\n",
       "      <td>2024-05-21 00:00:00</td>\n",
       "      <td>False</td>\n",
       "      <td>True</td>\n",
       "      <td>False</td>\n",
       "      <td>True</td>\n",
       "      <td>1200.0</td>\n",
       "    </tr>\n",
       "  </tbody>\n",
       "</table>\n",
       "</div>"
      ],
      "text/plain": [
       "   order_id  quantity  unit_price           order_date  prod_Laptop  \\\n",
       "0       101       1.5       900.0  2024-05-09 00:00:00         True   \n",
       "1       102       1.0       300.0  2024-05-07 00:00:00         True   \n",
       "2       103       1.0       600.0  2024-05-04 00:00:00         True   \n",
       "3       104       1.5       300.0  2024-05-26 00:00:00        False   \n",
       "4       105       2.0       600.0  2024-05-21 00:00:00        False   \n",
       "\n",
       "   prod_Tablet  reg_Central  reg_North  total_spend  \n",
       "0        False         True      False       1350.0  \n",
       "1        False         True      False        300.0  \n",
       "2        False         True      False        600.0  \n",
       "3         True         True      False        450.0  \n",
       "4         True        False       True       1200.0  "
      ]
     },
     "execution_count": 10,
     "metadata": {},
     "output_type": "execute_result"
    }
   ],
   "source": [
    "# Adding total_spend column to incremental data\n",
    "incremental_data.loc[:, 'total_spend'] = incremental_data['quantity'] * incremental_data['unit_price']\n",
    "\n",
    "# Saving the transformed incremental data to a new CSV file\n",
    "incremental_data.to_csv(\"Transformed/transformed_incremental.csv\", index=False)\n",
    "incremental_data.head()"
   ]
  }
 ],
 "metadata": {
  "kernelspec": {
   "display_name": "Python 3",
   "language": "python",
   "name": "python3"
  },
  "language_info": {
   "codemirror_mode": {
    "name": "ipython",
    "version": 3
   },
   "file_extension": ".py",
   "mimetype": "text/x-python",
   "name": "python",
   "nbconvert_exporter": "python",
   "pygments_lexer": "ipython3",
   "version": "3.13.2"
  }
 },
 "nbformat": 4,
 "nbformat_minor": 5
}
